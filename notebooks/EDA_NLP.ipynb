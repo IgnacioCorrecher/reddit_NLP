{
 "cells": [
  {
   "cell_type": "code",
   "execution_count": 34,
   "metadata": {},
   "outputs": [],
   "source": [
    "import pandas as pd\n",
    "import matplotlib.pyplot as plt\n",
    "import seaborn as sns\n",
    "try:\n",
    "    df = pd.read_csv('../data/comments_sentiment_summary.csv', index_col='Id', skip_blank_lines=True)\n",
    "    df = df.dropna()\n",
    "except Exception as e:\n",
    "    print(f\"Error loading data: {e}\")\n",
    "    exit()"
   ]
  },
  {
   "cell_type": "code",
   "execution_count": 39,
   "metadata": {},
   "outputs": [
    {
     "name": "stdout",
     "output_type": "stream",
     "text": [
      "Sentiment\n",
      "NEGATIVE    678426\n",
      "POSITIVE    321574\n",
      "Name: count, dtype: int64\n"
     ]
    },
    {
     "data": {
      "image/png": "[encoded data removed]",
      "text/plain": [
       "<Figure size 1000x600 with 1 Axes>"
      ]
     },
     "metadata": {},
     "output_type": "display_data"
    }
   ],
   "source": [
    "# Analyze results\n",
    "sentiment_counts = df['Sentiment'].value_counts()\n",
    "print(sentiment_counts)\n",
    "\n",
    "# Visualize results\n",
    "plt.figure(figsize=(10,6))\n",
    "sns.barplot(x=sentiment_counts.index, y=sentiment_counts.values)\n",
    "plt.title('Distribution of Sentiments')\n",
    "plt.xlabel('Sentiment')\n",
    "plt.ylabel('Count')\n",
    "plt.show()"
   ]
  },
  {
   "cell_type": "code",
   "execution_count": 40,
   "metadata": {},
   "outputs": [
    {
     "name": "stdout",
     "output_type": "stream",
     "text": [
      "\n",
      "Positive Sentiment Examples:\n",
      "Comment ID: 477698\n",
      "Subreddit: r/movies\n",
      "Comment: Wow no emperors new groove?  For sure this is one of my top 10....\n",
      "--------------------------------------------------------------------------------\n",
      "Comment ID: 46511\n",
      "Subreddit: r/Music\n",
      "Comment: Kurt’s inability to play guitar or sing. The energy is great and all, but I need notes and melody....\n",
      "--------------------------------------------------------------------------------\n",
      "Comment ID: 561581\n",
      "Subreddit: r/videos\n",
      "Comment: Cool your jets, hero. Don't you have a small business to protest?...\n",
      "--------------------------------------------------------------------------------\n",
      "Comment ID: 877229\n",
      "Subreddit: r/Jokes\n",
      "Comment: This is the future liberals want...\n",
      "--------------------------------------------------------------------------------\n",
      "Comment ID: 371507\n",
      "Subreddit: r/pics\n",
      "Comment: They are building them online....\n",
      "--------------------------------------------------------------------------------\n",
      "\n",
      "Negative Sentiment Examples:\n",
      "Comment ID: 316544\n",
      "Subreddit: r/dataisbeautiful\n",
      "Comment: Exactly. Notice how the police spokesperson claims there are no quotas while we now both agree there are quotas. \n",
      "\n",
      "The police spokesperson is lying, which means the Salvadoran government is not truthf...\n",
      "--------------------------------------------------------------------------------\n",
      "Comment ID: 45894\n",
      "Subreddit: r/nottheonion\n",
      "Comment: So the rape victims don’t count at all?...\n",
      "--------------------------------------------------------------------------------\n",
      "Comment ID: 185770\n",
      "Subreddit: r/AskReddit\n",
      "Comment: The rack. Your limbs  would be stretched out until you confessed....\n",
      "--------------------------------------------------------------------------------\n",
      "Comment ID: 778529\n",
      "Subreddit: r/AskReddit\n",
      "Comment: If you're interested, a survivor of a similar \"school\" made a webcomic. It's called [Elan School](https://elan.school/). I've never been to one but my entire childhood was waaaay to similar even thoug...\n",
      "--------------------------------------------------------------------------------\n",
      "Comment ID: 235833\n",
      "Subreddit: r/AskReddit\n",
      "Comment: That sounds so creepy! What was the situation?...\n",
      "--------------------------------------------------------------------------------\n",
      "\n",
      "Sentiment Distribution:\n",
      "Sentiment\n",
      "NEGATIVE    678426\n",
      "POSITIVE    321574\n",
      "Name: count, dtype: int64\n",
      "\n",
      "Positive Percentage: 32.16%\n",
      "Negative Percentage: 67.84%\n"
     ]
    }
   ],
   "source": [
    "# Function to display sample comments\n",
    "def display_sample_comments(df, sentiment, n=5):\n",
    "    sample = df[df['Sentiment'] == sentiment].sample(n=n)\n",
    "    print(f\"\\n{sentiment.capitalize()} Sentiment Examples:\")\n",
    "    for _, row in sample.iterrows():\n",
    "        print(f\"Comment ID: {row.name}\")\n",
    "        print(f\"Subreddit: r/{row['Subreddit']}\")\n",
    "        print(f\"Comment: {row['Comment'][:200]}...\")  # Display first 200 characters\n",
    "        print(\"-\" * 80)\n",
    "\n",
    "# Display sample positive comments\n",
    "display_sample_comments(df, \"POSITIVE\")\n",
    "\n",
    "# Display sample negative comments\n",
    "display_sample_comments(df, \"NEGATIVE\")\n",
    "\n",
    "# Display sentiment distribution\n",
    "sentiment_counts = df['Sentiment'].value_counts()\n",
    "print(\"\\nSentiment Distribution:\")\n",
    "print(sentiment_counts)\n",
    "print(f\"\\nPositive Percentage: {sentiment_counts['POSITIVE'] / len(df) * 100:.2f}%\")\n",
    "print(f\"Negative Percentage: {sentiment_counts['NEGATIVE'] / len(df) * 100:.2f}%\")"
   ]
  },
  {
   "cell_type": "code",
   "execution_count": null,
   "metadata": {},
   "outputs": [],
   "source": []
  }
 ],
 "metadata": {
  "kernelspec": {
   "display_name": "Python 3",
   "language": "python",
   "name": "python3"
  },
  "language_info": {
   "codemirror_mode": {
    "name": "ipython",
    "version": 3
   },
   "file_extension": ".py",
   "mimetype": "text/x-python",
   "name": "python",
   "nbconvert_exporter": "python",
   "pygments_lexer": "ipython3",
   "version": "3.12.4"
  }
 },
 "nbformat": 4,
 "nbformat_minor": 2
}
